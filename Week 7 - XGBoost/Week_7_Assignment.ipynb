{
  "nbformat": 4,
  "nbformat_minor": 0,
  "metadata": {
    "colab": {
      "name": "Week 7 Assignment.ipynb",
      "provenance": [],
      "collapsed_sections": []
    },
    "kernelspec": {
      "name": "python3",
      "display_name": "Python 3"
    },
    "language_info": {
      "name": "python"
    }
  },
  "cells": [
    {
      "cell_type": "markdown",
      "metadata": {
        "id": "FvE3Tf2wXxwm"
      },
      "source": [
        "### **Muhammad Abdul Ghofar 1103180172**"
      ]
    },
    {
      "cell_type": "code",
      "metadata": {
        "id": "Z3ieer7RXthI"
      },
      "source": [
        "import pandas as pd\n",
        "from sklearn.model_selection import train_test_split\n",
        "from sklearn.impute import SimpleImputer as Imputer\n",
        "\n",
        "from xgboost import XGBRegressor"
      ],
      "execution_count": 1,
      "outputs": []
    },
    {
      "cell_type": "code",
      "metadata": {
        "id": "rETJvb6RYJYL"
      },
      "source": [
        "data = pd.read_csv('train.csv')\n",
        "data.dropna(axis=0, subset=['SalePrice'], inplace=True)\n",
        "y = data.SalePrice\n",
        "X = data.drop(['SalePrice'], axis=1).select_dtypes(exclude=['object'])\n",
        "train_X, test_X, train_y, test_y = train_test_split(X.to_numpy(), y.to_numpy(), test_size=0.25)\n",
        "\n",
        "my_imputer = Imputer()\n",
        "train_X = my_imputer.fit_transform(train_X)\n",
        "test_X = my_imputer.transform(test_X)"
      ],
      "execution_count": 3,
      "outputs": []
    },
    {
      "cell_type": "code",
      "metadata": {
        "colab": {
          "base_uri": "https://localhost:8080/"
        },
        "id": "oZ1FegWrYWeT",
        "outputId": "dbafd8d3-c651-40fa-94f3-4977637d5aa4"
      },
      "source": [
        "my_model = XGBRegressor()\n",
        "# Add silent=True to avoid printing out updates with each cycle\n",
        "my_model.fit(train_X, train_y, verbose=False)"
      ],
      "execution_count": 4,
      "outputs": [
        {
          "output_type": "stream",
          "name": "stdout",
          "text": [
            "[13:27:28] WARNING: /workspace/src/objective/regression_obj.cu:152: reg:linear is now deprecated in favor of reg:squarederror.\n"
          ]
        },
        {
          "output_type": "execute_result",
          "data": {
            "text/plain": [
              "XGBRegressor()"
            ]
          },
          "metadata": {},
          "execution_count": 4
        }
      ]
    },
    {
      "cell_type": "code",
      "metadata": {
        "colab": {
          "base_uri": "https://localhost:8080/"
        },
        "id": "O7CuDY46YaCo",
        "outputId": "2d95e6cb-0ce8-4e41-ab36-15c16f449462"
      },
      "source": [
        "# make predictions\n",
        "predictions = my_model.predict(test_X)\n",
        "\n",
        "from sklearn.metrics import mean_absolute_error\n",
        "print(\"Mean Absolute Error : \" + str(mean_absolute_error(predictions, test_y)))"
      ],
      "execution_count": 5,
      "outputs": [
        {
          "output_type": "stream",
          "name": "stdout",
          "text": [
            "Mean Absolute Error : 17147.326487585615\n"
          ]
        }
      ]
    }
  ]
}